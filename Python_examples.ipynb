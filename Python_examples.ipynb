{
  "cells": [
    {
      "cell_type": "markdown",
      "metadata": {
        "id": "view-in-github",
        "colab_type": "text"
      },
      "source": [
        "<a href=\"https://colab.research.google.com/github/wde11/python_examples/blob/main/Python_examples.ipynb\" target=\"_parent\"><img src=\"https://colab.research.google.com/assets/colab-badge.svg\" alt=\"Open In Colab\"/></a>"
      ]
    },
    {
      "cell_type": "markdown",
      "metadata": {
        "id": "dbGfZ4hEVQb7"
      },
      "source": [
        "#Python Things\n",
        "\n",
        "\n",
        "*   Beginner's Language\n",
        "*   Object Oriented\n",
        "*   Interpreted\n",
        "*   Interactive\n",
        "\n",
        "**Python Identifiers**\n",
        "\n",
        "\n",
        "*   Class names start with an uppercase letter. All other identifiers start with a lowercase letter.\n",
        "*   Starting an identifier with a single leading underscore indicates that the identifier is private.\n",
        "* Starting an identifier with two leading underscores indicates a strongly private identifier\n",
        "* If the identifier also ends with two trailing underscores, the identifier is a language-defined special name.\n",
        "\n",
        "**Line and Indention**\n",
        "\n",
        "\n",
        "*   NO curly braces\n",
        "*   Block structure indicated by indentation"
      ]
    },
    {
      "cell_type": "markdown",
      "metadata": {
        "id": "NLpUWrWi_G3u"
      },
      "source": [
        "#**Variables and Data Types**\n",
        "\n",
        "First assignment to a variable creates it.\n",
        "*   Variable types don't need to be declared\n",
        "*   Python figures out the variables on its own\n",
        "\n",
        "Python uses five standard data types"
      ]
    },
    {
      "cell_type": "code",
      "execution_count": null,
      "metadata": {
        "colab": {
          "base_uri": "https://localhost:8080/"
        },
        "id": "9GlKn2Im4fmp",
        "outputId": "ad8f2263-c7b4-4e33-857a-f43d5f8e88d0"
      },
      "outputs": [
        {
          "output_type": "execute_result",
          "data": {
            "text/plain": [
              "(int, float)"
            ]
          },
          "metadata": {},
          "execution_count": 15
        }
      ],
      "source": [
        "#Numbers\n",
        "a = type(123)\n",
        "pi = type(3.14)\n",
        "\n",
        "a, pi"
      ]
    },
    {
      "cell_type": "code",
      "execution_count": null,
      "metadata": {
        "id": "f6YX4Eqo4y01",
        "colab": {
          "base_uri": "https://localhost:8080/",
          "height": 35
        },
        "outputId": "4777a866-31f0-4a60-adf3-4df3ca182826"
      },
      "outputs": [
        {
          "output_type": "execute_result",
          "data": {
            "text/plain": [
              "'Hello World!'"
            ],
            "application/vnd.google.colaboratory.intrinsic+json": {
              "type": "string"
            }
          },
          "metadata": {},
          "execution_count": 18
        }
      ],
      "source": [
        "#Strings\n",
        "varString = \"Hello World!\"\n",
        "varText = \"This is a String!\"\n",
        "varChar = \"a\"\n",
        "varString"
      ]
    },
    {
      "cell_type": "code",
      "execution_count": null,
      "metadata": {
        "colab": {
          "base_uri": "https://localhost:8080/"
        },
        "id": "dHWg-EZ741H3",
        "outputId": "8cf5d38b-8adc-415d-8b7e-5def4cdf794b"
      },
      "outputs": [
        {
          "output_type": "stream",
          "name": "stdout",
          "text": [
            "3\n"
          ]
        }
      ],
      "source": [
        "#Lists\n",
        "#List is a mutable object\n",
        "#has a variable size\n",
        "varList = [\"abc\", 123, [\"x\",\"y\",\"z\"]]\n",
        "print(len(varList))"
      ]
    },
    {
      "cell_type": "code",
      "source": [
        "fruits = [\"apple\",\"orange\",\"tomato\",\"banana\"]\n",
        "print(type(fruits))\n",
        "print(fruits)\n",
        "fruits[3]"
      ],
      "metadata": {
        "colab": {
          "base_uri": "https://localhost:8080/",
          "height": 70
        },
        "id": "5xofK3xfMtvf",
        "outputId": "6290435b-dea3-46e1-ccb7-231a2807bfbf"
      },
      "execution_count": null,
      "outputs": [
        {
          "output_type": "stream",
          "name": "stdout",
          "text": [
            "<class 'list'>\n",
            "['apple', 'orange', 'tomato', 'banana']\n"
          ]
        },
        {
          "output_type": "execute_result",
          "data": {
            "text/plain": [
              "'banana'"
            ],
            "application/vnd.google.colaboratory.intrinsic+json": {
              "type": "string"
            }
          },
          "metadata": {},
          "execution_count": 20
        }
      ]
    },
    {
      "cell_type": "code",
      "source": [
        "fruits[2] = \"mango\"\n",
        "print(fruits)"
      ],
      "metadata": {
        "colab": {
          "base_uri": "https://localhost:8080/"
        },
        "id": "rbW0mFvdPI5l",
        "outputId": "a8dcaa78-4569-4777-9870-92dca038f37a"
      },
      "execution_count": null,
      "outputs": [
        {
          "output_type": "stream",
          "name": "stdout",
          "text": [
            "['apple', 'orange', 'mango', 'banana']\n"
          ]
        }
      ]
    },
    {
      "cell_type": "code",
      "source": [
        "nums = list(range(0,100,5))\n",
        "print(nums)"
      ],
      "metadata": {
        "id": "1MjTckjKQxDR"
      },
      "execution_count": null,
      "outputs": []
    },
    {
      "cell_type": "code",
      "execution_count": null,
      "metadata": {
        "id": "yKSVcIGy44HN"
      },
      "outputs": [],
      "source": [
        "#Tuples\n",
        "#Tuple is an immutable object\n",
        "#has a fix size\n",
        "varTuple = ('abc', 123, \"hello\")"
      ]
    },
    {
      "cell_type": "code",
      "execution_count": null,
      "metadata": {
        "id": "OVL8Uubf4-pl"
      },
      "outputs": [],
      "source": [
        "#Dictionaries\n",
        "#unordered, changeable and indexed\n",
        "\n",
        "var = 3\n",
        "varDict = {'first':[1,2,3], '2':'2nd', 3:var, 4: (3,4,5)}\n",
        "\n",
        "varDict = {}\n",
        "varDict['first'] = [1,2,3]\n",
        "varDict['2'] = '2nd'\n",
        "varDict[3] =  3\n",
        "print(varDict)\n",
        "varDict['first']"
      ]
    },
    {
      "cell_type": "markdown",
      "metadata": {
        "id": "peFJRZ89CwnO"
      },
      "source": [
        "# **Arithmetic Operations**"
      ]
    },
    {
      "cell_type": "code",
      "execution_count": null,
      "metadata": {
        "id": "B482EUkWz_aT"
      },
      "outputs": [],
      "source": [
        "#Addition\n",
        "a = 2 + 1"
      ]
    },
    {
      "cell_type": "code",
      "execution_count": null,
      "metadata": {
        "id": "jE1m8Jbi0BCP"
      },
      "outputs": [],
      "source": [
        "#Subtraction\n",
        "b = 5 - 3"
      ]
    },
    {
      "cell_type": "code",
      "execution_count": null,
      "metadata": {
        "id": "2Xm6qFjv0DmC"
      },
      "outputs": [],
      "source": [
        "#Multiplication\n",
        "c = 5 * 3"
      ]
    },
    {
      "cell_type": "code",
      "execution_count": null,
      "metadata": {
        "id": "2OzzvrUh0F6s"
      },
      "outputs": [],
      "source": [
        "#Exponent\n",
        "#5^3\n",
        "d = 5 ** 3"
      ]
    },
    {
      "cell_type": "code",
      "execution_count": null,
      "metadata": {
        "id": "Nk3Yvv6I0J2K"
      },
      "outputs": [],
      "source": [
        "#Division\n",
        "e = 5 / 3"
      ]
    },
    {
      "cell_type": "code",
      "execution_count": null,
      "metadata": {
        "id": "O7hwctHY0Nnq"
      },
      "outputs": [],
      "source": [
        "#Modulo\n",
        "f = 5 % 3"
      ]
    },
    {
      "cell_type": "code",
      "execution_count": null,
      "metadata": {
        "id": "au2jDUSM0QxQ"
      },
      "outputs": [],
      "source": [
        "#Floor Division or Integer Division\n",
        "g = 5 // 3"
      ]
    },
    {
      "cell_type": "code",
      "execution_count": null,
      "metadata": {
        "id": "RM-QHGbp0SkK"
      },
      "outputs": [],
      "source": [
        "#Increment / Decrement\n",
        "h = 5\n",
        "h += 1\n",
        "\n",
        "i = 5\n",
        "i -= 1\n",
        "\n",
        "j = 5\n",
        "j *= 1\n",
        "\n",
        "k = 5\n",
        "k /= 1"
      ]
    },
    {
      "cell_type": "markdown",
      "metadata": {
        "id": "FmOpgPuCPg2L"
      },
      "source": [
        "Convert this sigmoid function formula into a code\n",
        "\n",
        "![sigmoid.png](data:image/png;base64,iVBORw0KGgoAAAANSUhEUgAAATQAAACUCAIAAACSiEKSAAAAAXNSR0IArs4c6QAAAARnQU1BAACxjwv8YQUAAAAJcEhZcwAAEnQAABJ0Ad5mH3gAACIKSURBVHhe7d0HXBPn/8DxWH+t1ap1dNgiglUULWIduOuqG7VarHXvWcSBCihuRHCgAqJMEQQBkRX2CnvvHSABws4ggex9/wNxFhVkePL/vguvWi+JWPjknntu4RAAACZBnABgFMQJAEZBnABgFMQJAEZBnABgFMQJAEZBnABgFMQJAEZBnABgFMQJAEZBnABgFMQJAEZBnABgFMQJAEZBnABgFMQJAEZBnABgFMQJAEZBnABgFMQJAEZBnABgFMQJAEZBnABgFMQJAEZBnABgFMQJAEZBnABgFMQJAEZBnABgFMQJAEZBnABgFMQJAEZBnKAniRFeHb2KXEyklJQzGRyRtPX3QRsgTtCDOMX16e4BjpYm193vumQnkRsFrQtAGyBO0K2kMmEjl1ZeU5KZnxYa+dTU5vymfRvWzVp1XutCpFcOg9v6MNAGiBN0K76IVVKV7hvlbHTv3I4D66bM/fUnRUW1gdNOzD0X5ZbH4rc+DLQB4gTdR47IuUJmMSXdh+B80VL/z+3zFMb279MXNwo36ZiGUbwbkS1sfSRoA8QJuo1chsj4YgGLRSurLo7Ni7J0Oblis+Kg73A/41SPTDOKd4U43wviBN2mOU6JDN3ubP4PISJKK3M9YTJjlCpuJG68toZRnAvE+V4QJ+g+6LBWLm/9tQSRZ1R6nLwxS2lCH0Xc+H8hzg+COEHP4CD8hOLHOkYaiuPROFVhzflhECfoGWyEF090hjg7AOIEPQPi7DCIE/QMiLPDIE7QMyDODoM4Qc+AODsM4gQ9A+LsMIgT9AyIs8MgTtAzIM4OgzhBz4A4OwziBD0D4uwwiBP0DIizwyBO0DMgzg6DOEHPgDg7DOIEPQPi7DCIE/QMNsJPIMIpYx0BcYKeIUKk6eXuJ6/PVJrQZxRu4rGZ11M9yqDN94E4Qc8QIKJUsssJEw1FVZwibsLRGSbJ7iS+rHUpaAOG45RxhfWk+vJici2ziovwOnxtcImYTWOSiqtKyioZfOaLq2WAHiRH5BKpmMdrYtArs8oT7/voL9mq8NUg3Ne4wZpKOxyuBObn1jRUN/AauWKR5OUFTUArzMYpE1PzKiIeRXo6uccUhFUhNR2+NjifXZZe4OEY+tDFL56YwkIaW38f9BgZ+g4rYtfVkrIyg+19Tf7RX/aD+je4FhOHTzuy5Zq7bVRuZG5dSRWnkS+DtehbsBinjEdnliTlBjjgrU3tHJzsCQWhHxMnD40z390af/uavZ2zc1ROTCWrSoiIW5eCHvA8ztra0qzMoEe+Nw9d2btYa+XCBYuWLFrwz7pNF06bP7NvjrMW4mwTBuNsZBWGx9+/aHv29HVLF1sCMaaCWclBuB0f1oqaaA2lKfkB1r439e6a3rzhk/iMJKyGOYiegw5rxc3D2kY6nUIsy47PiAsmRIaFRUREhEZHR6en5pMLaxjVDF4jB4a1bcBYnGKasCoo88k58yO7dY9dM/XKCatFaJ16R+XzKmML3C88OntQ96zZhcfJkaVspuz5lVQBwDRMxSkWVEUS3Y446q8/cvLSSfsEvwJ2nRiRtC79WKI6dnlgksO5m3t2nTxsfNs7N5qOMOBdGmAeZuKU8mVN2YXBV60OL9m7+Z89FvgHecJyXuvCzkFDpDLSXCMNtlzZuG3XuaeXCawMpgTyBBiHmTgbS1gpd54YaWkuWzdjq6mef2EyF+m6zUOZlJZC8zF0PLF91eara67EumYzWK2LAMCobo1TjojZfBadTkX/YbP48nfPlApEJfg8yz8NtaZNWHpihmGcXW5jF8cjqUWqPKIf6Gxbsnn+6qvn3XPSuAgX5gcBhnVnnGKmoK64oiAzIzk9NaUwl0SvbntlKEFkFXURN57unLhjhprGtts73KlR9bKuHnYKEHFmsa/h9aXTtKas2n7Z17pQSoa7QwIM6/I4ZQi3poGUWpgSmRAbQ4hLi0tKT01MSIkKiw4ODPAPDQiNiIqNjcvIiS2qyasXNYrQp3AQTlyW/SGDWaMWqM5dqf/0Zqas+J3ZCEUNFGpqXE4gPhzv6+vzkq+vnz8+MDggKDwwKCE6uaSghsOQvDWZRKMl3ArYPlZ7ytgFu8z2+tBjqFLY8gSY1bVxouPYGlamW7j5YaNjuw+cszB8koXPrq+pLqbmeMZYn7y4dc3fi/7Q0tq0Ue/6rgcEi0RWaROCSGuR8sdBl9ZqjhmjNF5rnTHBtQKpbTsadBhaQ0/1CD2689y82atnz5o186VZs2bPnTNv/tzfl89bdHDTSed7kZQcLvLmjJKYW+CYeuHXU4t+VF129HeTTNciHqw7AWZ1YZxiKbesMdOVYLr15PJJ8+f+sUDbUs+fElONSGVMhOqTfkfr3/EDFXC4ft+p/aRlsPRWeGucvFxBgoHDfnX1H1WHqh3ZYp4eTEMaWl/zTdImhJdQ5HXB+I85i4ePnjhGTe23qVOmTp06XWPajBlTfh3764gBo4YMG6a8RmOvo0koJfvtOBFxuU+hzRzDNcOV1deP2+F9I4pa2+59nnIhnVeTWJaJjwnDdw76/MzoxFoyXYh+ebDqBu/SVXGiP2O0piKPxBsbDOaPmTx62vgVenttY/0ovNrmdRMX4UYU2OzQUx30M+5rnOLaX44/OR9Gzq0XosNaGS2y2nOt6dpvVQZP/GHKxUMOhfFchP38Vd8irEIqPVOfGOrs+XfFxrPaF+9ZOT52dnF1cX/i6u5ka6J7bdPs/Svmrzt0/ahLfnAph/GffaTy2vAKt5Um64aq/DRr5O93Tj4hZfORdq48ZQ0ZtZE6Ty/N2bl2zpzZs5s/O6zleXPQ51/acSTSPa2hpmUwAECbuihOOR/hZZT6nry5RkFjyOC+v/wz6USAdTqL3rqYg/Dji52PXJ4+UqnPKJzasanXUzzJz+eG5KIKzxwrDf1ZfUb3mz56poW+R1m2GGnzQFo5t1xC9EwPfGD8yO+ib1EEqYnT+qMtQjhFVQlOQRZnH9y6YxeaTahFqG1ODdOTaP477/3zg/rQUT/+emSnZUYYA2G1b+UlpSZW4bc+PKqkOVNJWVm5+XP0x3woKc1QUtZZucXfIYFa2XrXZwDa0EVxSqhIhVfs7T//Vh8wcMDPuDn6f1jlhVBezriykIawfLu9p6aO+A6Nc8LxaSapz8qa54KatwOJj+IuTz489muFL5aozHW+7F9dLG/7qCAZp55PTiBlRUfmlcXWiOtePYiBkJ9l+996YOd81ysrhsx95wF6jXncaP2H+5Sn/fD1EBXNtdcIHhSkrn19yBpJDRl28S56Fsan9Q0M9NDPMx390Ec/9PSu6uk7m9tlxJEaGbDmBO/WRXEKyLIMc6/TM6Yqf4UbPqn/JvO9+NqMF+tNdMSLVDxJuLFi6/j+X/Ud+ZWG/nKLPHz587VjEzPjfvAh9e3Dhv6A+1N1vqdJWH3ZO9YnMgGXT6tm0WobuEJO62MkiKSOVxqW4XXdwfqO8dMk50x+2XvODWMXixKNXXXGzVDE9R8za56hn3W+rKJ9xzrIRVwRo4JRkUcm5uYXFuYVFHYc+ryCvDxiXn4ZmcJgcEXonwzbnOBduihObrEoycT1qJq6Qh/ciCkKB+zPRDcWNbUuRPhkXrKpxzHV+Qq4L4aqKm+yOIlnZDCeB1hLizPzXvur1v+GDcOtV13oaRrxzjjlUqlEKJSIxa9+oCX1SG1oMcHG1tr+qgPhSRq1uBF539n1HPTrvOZ2VHXmKNwXStPUjruZpIiLua0LP0Aul0slUrFIIhaJxS2f6JfS8Q+RqPm5EqlEhr5g60sD0IauWnOWi3ItvfWmLxqB6ztETXmfw9kEYUnrGokvKQvKvqd1euFAxe+HDdLYtPZmmCdRXt+8FP3hJNeFm7jNnbAGN3QIuuZc6GESWUdu15YY+hCWkJpGiXX0fWx30ynWLoqW98ETWNhEYYLRE53xaJy4kdN/+df5fIyg8OWbCOYxmcysrCwC+EQyMzPRb0HrN6P7dVGcUrqs3jfxttZBlUGjBk1Q2nTvcCg7q3nKFa2luC7c+NH2CSuUBn83ftkUbXtTAqWEi4ia1xroUtLHxslCeJmVmb7PnNws7SOfxlUVUKWcNjdVX/dWnIeb4yz4fOJEyzx16tRi8Ino6upmZGS0fjO6XxfFifARcVF1pOVTbc09sxfPW3Fms1G4a3R+LjErL+1J0K0Dhn/OXb1g7crDVobexXG1zdtaLdA4K2lxt3zWTfy739DhuHXPh7XlH54mEYk4JTWZPpEeLlYO0Y4h1YV1z6eXPuS/w9rk9g5rm/dz1iaVZfrHhPn74/HNnx3W8jx/9PmZMR+1nzM4OHjy5MnPr/MBet6kSZMCAwNbvxndr6viRGviCRlZdbGWXucOai/e+c8qA/2rVncdrc1vXjDRPWGoZ3zVyudxNCmzTsh6tX5DfzLprGyriGOT9vw0ZMRrE0LvjRNNu7quOCbEyfWhhbd7CDG9RsRu59VH0DhfTQjNnGfo2/4JISzs50TjVFdXb/1JAT1OTU3tc4wTJZfwiez8B4S72uc2/Hvgn6tXzOytXR89ML9nbeHiFpSdWMGjtzHs5PFKXVJvaRxXH6TUd6nKXOeL+Gqi7H1X+pGJ6dzK+OwgT2cr30du6WlkZjsndJq17Epx3K887cf+Q8atXmtCeNruXSlY2M+JbvOgI6uF4BM5ceLE5zisRTUxic+SrTaa7V+++6CJrlUyPrmkmFxalF9UTKRQaPymttcRUnFVUNGjpRcXfzt2gMYoDTPdJ6VpwrcPu3uNoKk6J9fbJeiBk6dvanQJq47/wQ3N19CTmw9C2PSj+rDWgxDCGUg7r5qJhf2cTCYT7TMCfCJomQ0NbR9a2h26Kk4xIiok4c+Yr/1p+fgR6n8e32iR+jSDVtUo5bQ+4J1kjOR6/913No4cN3TcMPVTu61zopqQtudoZBx5QxqR4OR83dLKIiA8n0VrXdBe8roIivtK07XfjvtuusKsm0ddStLaffge7OcEPayr4mxEGiJzH+7VnT5U6as+AxTUVZbr7bn61D6MGFMuqHn/0I1XLEy59vjojMkKioNUt2jdTMDXIq+OX3iNnJFPi7ruY3ZQ5/Q1nXvxvoXCjs6ziim+RbZzz6/8dvToFb+sd7kUWl3a/ot9yWVyiUQqFopFQpGo5bNln2VHP4TC5ueK0ZeC/ZzgvboqThZC9c5x2Pvv72qKg4YMHtB/+LBfxkxeOX+T/q6LtibOwR6xealkeh1P3kYJEhpC8SWYbdSaNEJp/Pwl5/2si6SUtzY6JVxJA6ky2tLbcOHeFSoTFq37ba+Zzt1Qn1hSEVXQes0EGR/h1rJplTU19Bq6gCP87+naIm7Bw5SLarrzho2buWeGfoxtTvPAEgBs6qo4aUjV0ww3PYM925YsWLZ41oR5qj+qDP/uh+Gjf1KZojpz1azNhnvvBntkNVSL/ruVJUL4+SV+BrdWK62YrDbnyINTBGbWW4fgcao5Oe7R97adWDN6vMLXfYd832/U5NGT12vuvnvVpySG2TIMFlTKyfjc8Mfuz6I8oqoK6oRvboyif2wNNcbUd9uY/erKs/422uZCCasRt3OWF4Ce1+k4ZVw5m0QnR2XHOnu62Zk/eHTb/L6V2blbBtu01y9cNUVlsuI33/f7H27QxMELTm2+E+9W0FTJl/6nT1ZjvmPy+fl6S36b9uelteaFAWTJ62nJ2ZVNGa7Rdrrnj2zS1Fzy+2z16eO+Ux48+DuFxeq7HE8H01Iam1eLwuTL3td37tS5ucMs1Se/6c1ZJR4iTMjzOHH+j9+W/bZC67ynZa6A1IF5XgB6WqfjZBaykq3DnS8amduec45/mkQmksvLSvNLchPSonyD7S/f01m8RX3gz/2+wn075yfN21sd80Mq+f+ZjJVKGYksvK7dPs15M4/O3Im3iKW9vg9Qxm/iVRZSspNSE2LCwgODPe85Xd6ou1x5qpLKkEmH5pyJtcnmVdMyqCHaVkcXTF97YvrpcJu0hje2SIWVCOlh0O3dqxZpTVp95ZRbdgrnvUfhAvCpdSZOMSJhsjJ94k33G+/btdXQ1SCwPumt+VNOCS3Rwe/iyoMzv1EY+D1OYee4f4Ms0huo/52lFNci5V4xd3X2/r5+3sIzB+1SA+gI60U8MqlcIkRe22Cl8Yi+qU4njQ9t1FxzeI2Os7FnVkRcYMxj3Runt6w6fPNv8xTPosbXJorF4pq4amfdO/s2ztK6vOBKjGMOA+5rBDCuM3E2Ipz0Qrcbt1Zs3DpXe79p1EOShPL2hI8E4VTWxpr5nB63YeI3g4euVlzvYRRVX/HaWvEFMSIiUyLNHA8s3Ll8paae43kCI+fldI38vzHTuNXZRYmBwU+dnOwc7Wyf2Ns8tL9318rGwcIr2SuLXsoSvxgYo19TdV3iI/yhTbrLtv+t52lIYKax4NJeAOs6E2ctUu8Vbaq9edTqWSoGJ23y4sVI23s1qSFlD2dcWdV/vOo6tW3+ZrGMdxy2JuJXhRe5a9ucXLFj7+FdJs/sEmpKmxDB+zKSIFwyLT8yCe/l6ezt5hUdnkom1gs5spcxy2XcyoZS32ibc9e2aZ/Yb37bMz+md9+OQUzn1xVXkUuIlYxyppQDU16frU7EKa9CqlxCL29fqTB/3Njjh+9nRfPfEWdtMNl+xo1t389fr615Nd0jr3mbs+06RDR+NSHX66zN8VXHDu0/ZhPimCMo+8C0jRDh1jVUlpWVVJAojPpGkfCN7psaiyJSHM/bnT1x3vjRHb/iBAoHHS23d9/m56eeXxKQ6WHiaHXX1D3JOVtA+nzOuQFv6UycdIQanGpz5N95s35T+2vxKXfjRGomS/Ta6SFyRNDAqyMSQy08Li3T09bcY+pgGlmfTX3/aksiqIgsfHzC+cLWs9fMrnimBxYyKU3Ih08HewP6RwgFbCqVlJ7l/fCZ6aX7dx44xBTFsN5xXb/PGPpOwxU31jAq8ksyI9PCbLxu7Lu0edaG9VorL3gZRnKze91f+P+PzgxrBYiguDbW0kN31eY/Fo/bcGHJ3TjHHDr91YpLKK3PrIqy87596vSxE4ev2FiG5aUzRE0fPLtL1MCvSCwJexBofdna2v5BSEEAGal89+G2bUG/CCa9PCPVy93H0sHdNSgovTingY9uw/a68awI4VexS6Ky/O65GB84v2vuX9MU1X4aOHLS3Km6bmej+LlwT5jPVmfiRPGl9QmVAaYOV49tPGmy4Zb/g8iComoqnUql0hlUJrW+OJEYbO1lfdvorreZT2lSpbB9p2e1aCAy4h4n+Ti7Ez4+zhQv32C3iNg8WpmkC2+LhCVydFRPYRcTsvwsH1/abrB+7DyFvv1xOJyixq/H3S7HC4vavspoJ7VcsuX5JVdE6C8+1wMRpTx6U3l6WXpYakJkVHxidEJKYkJMSlxwbCwhIrkgpZRZy5F8wi2gTsaJDkKZElphRUEiIT7GlxAXEZOYlpSckZKcnJGdXFCSW0gszc8uys3PLKwtqBG33Hyh/QRyRhmTUkyuYVZ85LCWTiVXVJHrqBxZh29a/7mQiRE+S8SqppfnFce6EMw3n1z2neJAHO7naeN0XLsnTvT/rUjEpTPQ7XwimVhGpzBE3JYLW3x2eJUpRe7n3M6uNziyZbfO8X1HdY8c3KK9ffHWrRvXn7DSdy2IofA/4Xt6p+N8hSNmVtQScwpSktOTW+LMJxdQWFR229e5BF1DJkNevrkLykTJJk+Oqs5QxOFGaqgccemeONFRCYtdlpj7xM79ju1ttwTXXCb5HScEYpgUkXMZBSFRtw7d3rX0yJ5Ne44fOXR81+4Nc5f8pvSr+u8a228dcymI7i1xom+pfDG7gUWtp1Hr62n0+gY2kyt5c+4UdDV0QPlypSWpRDJuPNOdMFupeVirot1NcaLvBVX0ONvgnWu1Z6+ZfchmR2BVLO2zm/8WILK62sLY8IePXO889H4WFJ0YHBd13/nmsX1/71m/2eiMXXRwCbPm8x7WAuxovgiLkdvRlsuXKWqM6641J/rjSq7zv+ymobT8y1H9llyc7kLy+8BpgZ0nQ0RsPquB2dDE5EherM34SGNxTX5UTBjeu138vL2jwqKL8qrYDKlAIqujV5OyksuzcxqbBFJEWsUq8o9xsb9t5mPhlpdcxv7km0IQZy/y+rUFuz3Oi27TFJf2Hfm/xeenPi7t9jhlTXwauaogOy89NyuPQqZLuOh4QVwtL3xEsNp1YMOC57ea+5D5M2fu3LDXwSK0Ikcg5cl5Aj6XyRSzeehrNXEpSYlODi43nJ19c2KqBHQMHLwBcfYiPRdnWX2Q8dO541YPUhm80miOGzmgtjvilCMCaiMptzQrLTM3O7MwLzcrOS0CH/bU2dMv+FkyKZVYUJnqEHlv536t+Rrt8ruGxg6tPfYWoeXZgtcuhSOhcsrCU92tbS9a37MIDc+rr20+9OzTgzh7kR6Oc974NYPHfbvKaG53xVnHzQ9ItDW2MTI2sfdzTivNoBSXxjmEXNuot3/DSgObw+5ZYbm5VXmR0SG+z9rF59mzyBBCYW4lOqx9mZ+YV52c+8Ts2TVja9tgr5TaEjZWzvKFOHuR3hNnk5iWTUlwDLqje+3gXh3tK2dsQt2LmCQRk5VtFXVCZdNvQ75ccHisSdqj4s6t4aRCOTO/It7V3/zWQ0tXv+SyfP47bj/5KUCcvUgPxSlDkHJq8DXP1jivznUvC6zrwkl5DsJMIuONbLU196zS/GvPlZM28V7p1eQmKbqgKfNOyAHl9eMG95l7aKxp+uPSTu1fFdNKqFF20U4mNo7eDwnlmfUCTstuXIyAOHuRHooTxeDHmAUsnPDXt6pD/ry5wI8W1WXXlBBKG9LrwowcD/++YqLquJnb1l4LcypE6psXSRFueonXyeurxs8ZP2XU5hv/PC0l1HzsCFTClTFLyeH33Q02nj5w4LBlpFUOUt6xg2S6HcTZi/RcnPUcwk38ggnr0TjXXJ/vUxfRNee+iBBxCTXO3Ov4/A1qysPHrhyz09YwrKpI0LI2k1JkWdbe59et+m2m8vR9q4xD7YvYFR99MQsehZfrHHLz772L1SZNXT3ngNOFQFp283HI6Pi8UcJlsrhiphD5tHvpIc5epKvilHBkzJLawth4QlDrTV5e5+eLx9s5X9yuP1FhxgCFAdO3Tjhle8EJ/U283/MHvBKIx8dGxpUUVHMaXk3AvJNcVMkrdoy9pvmv+uBRwycMXn79L6fysHoxIqrjUbKKouwDbh88tvWvGUuP/KHjfieyqliI1vwR0ODEElZxXcIDL9NtB7SWzJ6zcv6qg3svuVhGlKSQyLUlIcRkb5/YLO8cVilL8glHuRBnL9JVcfIo4jxHwv29B/9ZPKdF661eXpk6fcKocYP7D+3bv+9QxUEqUydMb13wwvO7wiyaM2fPxv0P74VV5Ly+66JtckFtFNFlq9nK72d8gxuosFjtKP5aqozMFSCVESSfqw/Obtu9fdvKPZd2mQbaEGry6eKPPbBOjMjZXFY5OSsm3v+Jr+Ntq/P7Dbb9sX3XgX+MvY1c/MPcDDytDhy+YffvE2J4+ae8zhTE2Yt0VZwckijdItBkzYZFE5TeuCvMaPTjFxXlX8aOHPXj0B++/nLAF19+MWBovx9H/jhKecwvo8eOGY0+5NVdYZQnKCuvWbTe/JofKe1dJ+K3kiKyBkaarZ+O+pafccNxuH6jl88+5nI9mJSQm18c6xpjf/amgc6+0zeOPohyz2BUPR/ofqSWOLnMypqG6ipqU3VRXbJTtPXhGxeOH7rqdMbcyfXeMVuzAwdv2J/wLIr6+HFzF4A4e5GuilNAlZSF5waYP7h1Xk9f/7S+/ot7vZw1OGt47orBuUuHdTYuWK84TOXrYf1U5iv8dfjvo/oXzxteuWB45vW7wuif09c3v3k/LCibWi56/yl7XISXTfIxvLlUeVpfXF/c//qNmT91k+Hh6y7mrr6eeHxoSEhoeHx4UkFyaUMNt3lg2gnos0ViiZgrkAnRYbFMiLArmGT0pSMiwyP98f6B3i6+Ad7P4rOjSawaDgxrQZfoqjilAhmb2lhbWl5amFdQkFvw8rYwRYVFxJKK/BJyWKzN8TvTRi8apDxw4dEpd8Lux+WRSojlpcTWBxaiTynIyy/Mzy8tLa+vbxLw3n9pGClVVu2dZLFln9qIH/v0xw1TH7Fs71/HTS7efXTPLdArNi+9jE3v2Am9H0GMMCkMckFRUVlhJauB3x2HVXQMxNmLdFWccplcKpFJRJKW28K8dlcYMfohkQsksuIq/BW3ueNWD1b5duWl2a5E30q+VCKWScXoQ148uOWJ6L8lEqlMjq6t3rcKEpRJciz9Dect/WXAl18r4jT2T7387H5IRmYeMZ9UWVbfxOB3cm3ZTgI5n83miDjY2KcCcfYiXRXnh1EYoSZev6uuHTz+W03jeR4VwdTWBR+JQxTGGz05OmHaqD64b3/FrTNb+qwyidm68E0yKbuJz2TxBSJxywi1F4M4exE2sUdOGUNVvh1nR2/G+JYXcU5Fv/LncXpVp7Rx2W+5mEOrzysozymsYbDQv1nvPo8f4uxFhOVI+nXP5ydbj5qpesLDJA0hd/2Z/N1wbK2gTJxj4X9m5h8jv8D1GYGbcmSGSbIXSfra4T9CKZNSX5icSQgL8yNExeeXUCFO8Bnhk0XJJq7HWi5Tojhj/DF34xRZaTvvDdwB3RBn84TQs2TzDftVhwzH9cMNXqTyl51RSE3Ryy1VKYWa5htpdc366s07zhHPsmmkppap1udLeymI8zMnl8rFPDGX3sQop2T6xN/bqrdokMKXONzXSoM0r2x7mBuQX13T0MjkiXgi+X/v7vZRWuIMNPKYPVZzwJiBKy7PekL27+xZKc27UipDbz3aufDP0cMV+o0c8fOahftunH3s6xwQGhAdE58QEu5h72x81fz6A9uQ7Mg6GRUjp3V1J4jzMycVydi17OpMUpZvoL3+1Y3qf3yPG4BDDcdN3DL1iO1Vj8io3JL8msaaJpmga0aBb8T5TdfEKUVkTYLq1DJvEyedpdsmK6kO+uH7n1RHT507ZelfS/ecPmJkfdcB7+EXT0gpzKth1grff5OOXgLi/My9iLMUjfPRFdNDWrsXL1ixcNGiJesWbDy96YL9Xa9IQm5JXlfGib4KuS7kmvuiX9cMmzhs1dUFrqSgmi55aR5CT6uKtHp6Zf+xdYuWz545a+acGUvWL9ltoH3NzT6YmFIlZvTugeybIM7PHDqsFTUPaxvpZRXFGVnxhNiQsMiwiIiI6LDo1Oj0wryy6mpGYwO3+dKyXTSsRTssr4+z9Nq+fMeUZb9tt9jsWRZd2zXdIwhHxiqrK0rJjA4Ow/v4enl74YPxhOTYTDKxhtPQxm3RezOIE3QUOoKlsopDk2yuW501PXMvxCqhvqihk8Na0AaIE3QUurUnEHHqGGRiaV5RbmkdiS5gf55XfMc4iBMAjII4AcAoiBMAjII4AcAoiBMAjII4AcAoiBMAjII4AcAoiBMAjII4AcAoiBMAjII4AcAoiBMAjII4AcAoiBMAjII4AcAoiBMAjII4AcAoiBMAjII4AcAoiBMAjII4AcAoiBMAjII4AcAoiBMATEKQ/wNBGfunOOeFVQAAAABJRU5ErkJggg==)\n",
        "\n",
        "1. When z = 8 and e = 2.718; g(z) = 0.9996643716832646\n",
        "2. when z = 2 and e = 2.718; g(z) = 0.8807753038918279"
      ]
    },
    {
      "cell_type": "code",
      "execution_count": null,
      "metadata": {
        "id": "aG7b3wJCQeo9"
      },
      "outputs": [],
      "source": [
        "#@title\n",
        "z = int(input())\n",
        "e = 2.718\n",
        "sig_fnc = 1/(1 + e**(-z))\n",
        "\n",
        "print(\"z = \",z, \" result =\",sig_fnc)"
      ]
    },
    {
      "cell_type": "markdown",
      "metadata": {
        "id": "3EMFN5LiHSjp"
      },
      "source": [
        "**Control Statements and Data Structures**\n"
      ]
    },
    {
      "cell_type": "code",
      "execution_count": null,
      "metadata": {
        "id": "UrkpxAT7HRvh"
      },
      "outputs": [],
      "source": [
        "#Boolean Conditions\n",
        "x = True\n",
        "\n",
        "if x:\n",
        "  print(\"Var is True.\")\n",
        "else:\n",
        "  print(\"Var is False.\")\n",
        "\n",
        "\n",
        "#String Conditions\n",
        "x = \"Hello World\"\n",
        "\n",
        "if x == \"Hello World\":\n",
        "  print(\"Var x is Hello World.\")\n",
        "else:\n",
        "  print(\"Var x is not Hello World.\")\n",
        "\n",
        "#Numerical Conditions\n",
        "x = 10\n",
        "\n",
        "if x == \"10\":\n",
        "  print(\"var is a String\")\n",
        "elif x == 10:\n",
        "  print(\"Var x is an integer.\")\n",
        "else:\n",
        "  print(\"var x is none of the above.\")"
      ]
    },
    {
      "cell_type": "markdown",
      "metadata": {
        "id": "vBJF-1RJup_r"
      },
      "source": [
        "#Loops"
      ]
    },
    {
      "cell_type": "code",
      "execution_count": null,
      "metadata": {
        "id": "343rOeC1uiU8"
      },
      "outputs": [],
      "source": [
        "#For Loops\n",
        "#start, range, increment\n",
        "for var in range(2,10,2):\n",
        "  print(var)\n",
        "\n",
        "#While Loops\n",
        "var = 0\n",
        "while var < 5:\n",
        "  print(var)\n",
        "  var += 2\n",
        "\n",
        "#Nested Loops\n",
        "x = 0\n",
        "while x < 5:\n",
        "  for y in range (0, x):\n",
        "    print(y,end = ' ')\n",
        "  x += 1\n",
        "  print()"
      ]
    },
    {
      "cell_type": "markdown",
      "metadata": {
        "id": "p6YVlXIZxR3e"
      },
      "source": [
        "#**Lists**\n",
        "Can contain a number of values comprised of different data types."
      ]
    },
    {
      "cell_type": "code",
      "execution_count": null,
      "metadata": {
        "id": "myf6p39pxXc4"
      },
      "outputs": [],
      "source": [
        "pi = 3.1416\n",
        "\n",
        "varList = [1, 2, 'A', 'B', 'Hello!', pi]\n",
        "print(varList)"
      ]
    },
    {
      "cell_type": "code",
      "execution_count": null,
      "metadata": {
        "id": "uzrZMSEZxyx2"
      },
      "outputs": [],
      "source": [
        "varList.append('World!')\n",
        "print(varList)"
      ]
    },
    {
      "cell_type": "code",
      "execution_count": null,
      "metadata": {
        "id": "9Z9J77XqyKPS"
      },
      "outputs": [],
      "source": [
        "#The remove() method erases the first value that matches the parameter\n",
        "varList.remove(pi)"
      ]
    },
    {
      "cell_type": "code",
      "execution_count": null,
      "metadata": {
        "id": "JJ71D2PamZ1G"
      },
      "outputs": [],
      "source": [
        "varList"
      ]
    },
    {
      "cell_type": "markdown",
      "metadata": {
        "id": "nvAFXTbvynX_"
      },
      "source": [
        "#**Dictionaries**"
      ]
    },
    {
      "cell_type": "code",
      "execution_count": null,
      "metadata": {
        "id": "rO2ZhXI6yqqG"
      },
      "outputs": [],
      "source": [
        "var = \"Hello World!\"\n",
        "varDict = {'first':1, '2':'2nd', 3:var}\n",
        "varDict"
      ]
    },
    {
      "cell_type": "code",
      "execution_count": null,
      "metadata": {
        "id": "5urIgtu4y_0O"
      },
      "outputs": [],
      "source": [
        "lista = [1,2,3,4,5]\n",
        "listb = ['a','b','c','d']\n",
        "\n",
        "varDict.update({4:lista})\n",
        "varDict.update({5:listb})\n",
        "varDict"
      ]
    },
    {
      "cell_type": "code",
      "execution_count": null,
      "metadata": {
        "id": "1y_CuAA70spH"
      },
      "outputs": [],
      "source": [
        "#Add values to a dictionary\n",
        "pair = [(10025,'one'),(10026,'two'),(10027,'three')]\n",
        "\n",
        "for x in pair:\n",
        "  varDict.update({x[0]:x[1]})\n",
        "\n",
        "varDict"
      ]
    },
    {
      "cell_type": "code",
      "execution_count": null,
      "metadata": {
        "id": "RJbVk0KT4Nvs"
      },
      "outputs": [],
      "source": [
        "#iterate through a dictionary\n",
        "\n",
        "for key in varDict:\n",
        "  print(key,'-->',varDict[key])"
      ]
    },
    {
      "cell_type": "code",
      "execution_count": null,
      "metadata": {
        "id": "FiuXc6VG3ic5"
      },
      "outputs": [],
      "source": [
        "#Update a value in a dictionary\n",
        "\n",
        "varDict[10025] = 'Rose'\n",
        "\n",
        "varDict"
      ]
    },
    {
      "cell_type": "code",
      "execution_count": null,
      "metadata": {
        "id": "XD7Dp05g5904"
      },
      "outputs": [],
      "source": [
        "#Remove an item in dictionary\n",
        "\n",
        "varDict.pop(10025)"
      ]
    },
    {
      "cell_type": "code",
      "execution_count": null,
      "metadata": {
        "id": "cjXT3x5P6HOO"
      },
      "outputs": [],
      "source": [
        "#remove the item that was last inserted into the dictionary\n",
        "varDict.popitem()"
      ]
    },
    {
      "cell_type": "markdown",
      "metadata": {
        "id": "aEtErKV35LqS"
      },
      "source": [
        "#**Slicing**\n",
        "\n",
        "Obtain a particular set of sub-elements from a data structure"
      ]
    },
    {
      "cell_type": "code",
      "execution_count": null,
      "metadata": {
        "id": "kJhzSnPy5T4d"
      },
      "outputs": [],
      "source": [
        "nums = [10, 20, 30, 40, 50, 60, 70, 80, 90]\n",
        "#start:stop:step\n",
        "print(nums)\n",
        "print(nums[2:7]) #prints from 2nd index to the 7th element\n",
        "print(nums[0:8:3])"
      ]
    },
    {
      "cell_type": "code",
      "execution_count": null,
      "metadata": {
        "id": "hFEv14D453x5"
      },
      "outputs": [],
      "source": [
        "nums = [10, 20, 30, 40, 50, 60, 70, 80, 90, 100]\n",
        "\n",
        "print(nums[0:8:3])"
      ]
    },
    {
      "cell_type": "code",
      "execution_count": null,
      "metadata": {
        "id": "f71Sb5gL7ZoH"
      },
      "outputs": [],
      "source": [
        "#taking the first n elements\n",
        "nums[:5]"
      ]
    },
    {
      "cell_type": "code",
      "execution_count": null,
      "metadata": {
        "id": "LvJMlOGE7iHG"
      },
      "outputs": [],
      "source": [
        "#taking the last n elements\n",
        "nums[-2:]"
      ]
    },
    {
      "cell_type": "code",
      "execution_count": null,
      "metadata": {
        "id": "jIXvgI-i8DRn"
      },
      "outputs": [],
      "source": [
        "#3rd element from the last up until the 9th element\n",
        "nums[-3:9]"
      ]
    },
    {
      "cell_type": "code",
      "execution_count": null,
      "metadata": {
        "id": "fKk-vvMu8PaU"
      },
      "outputs": [],
      "source": [
        "#all but n last elements\n",
        "nums[:-2]"
      ]
    },
    {
      "cell_type": "markdown",
      "metadata": {
        "id": "NeKn7P6-MiXk"
      },
      "source": [
        "#**Functions**\n",
        "\n",
        "Allow us to package functionality in a nice and readable way.\n",
        "\n",
        "Reuse it without writing again.\n",
        "\n",
        "Make code modular and readable."
      ]
    },
    {
      "cell_type": "code",
      "execution_count": null,
      "metadata": {
        "id": "3jk97iT1OXik"
      },
      "outputs": [],
      "source": [
        "#def function_name\n",
        "#     commands:\n",
        "def subtract(n, m):\n",
        "  print(n)\n",
        "  print(m)\n",
        "  diff = n - m\n",
        "  return diff\n",
        "\n",
        "subtract(10,5)"
      ]
    }
  ],
  "metadata": {
    "colab": {
      "provenance": [],
      "include_colab_link": true
    },
    "kernelspec": {
      "display_name": "Python 3",
      "name": "python3"
    }
  },
  "nbformat": 4,
  "nbformat_minor": 0
}